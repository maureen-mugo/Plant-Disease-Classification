{
 "cells": [
  {
   "cell_type": "code",
   "execution_count": 3,
   "id": "71c06ca3-69ab-48d8-9a5d-d0a745197f72",
   "metadata": {},
   "outputs": [],
   "source": [
    "from fastai.vision.all import *"
   ]
  },
  {
   "cell_type": "code",
   "execution_count": 5,
   "id": "3732bf21-e58e-45b1-ad36-e20b825890d5",
   "metadata": {},
   "outputs": [
    {
     "name": "stdout",
     "output_type": "stream",
     "text": [
      "/home/maureen/Code/personal-repos/projects/computer vision/Plant-Disease-Classification\n"
     ]
    }
   ],
   "source": [
    "import os\n",
    "print(os.getcwd())"
   ]
  },
  {
   "cell_type": "code",
   "execution_count": 13,
   "id": "aa11e999-6130-44e8-a863-4605dfa208c2",
   "metadata": {},
   "outputs": [],
   "source": [
    "base_path = Path()\n",
    "data_dir = base_path/'data'"
   ]
  },
  {
   "cell_type": "code",
   "execution_count": 14,
   "id": "61500b2d-4e17-42ba-b6a4-26de33f4b7ac",
   "metadata": {},
   "outputs": [
    {
     "data": {
      "text/plain": [
       "(#17) [Path('Data_analysis.ipynb'),Path('.gitattributes'),Path('plantdisease.ipynb'),Path('README.md'),Path('.ipynb_checkpoints'),Path('app.py'),Path('requirements.txt'),Path('.git'),Path('training_inferencing.ipynb'),Path('Untitled.ipynb')...]"
      ]
     },
     "execution_count": 14,
     "metadata": {},
     "output_type": "execute_result"
    }
   ],
   "source": [
    "base_path.ls()"
   ]
  },
  {
   "cell_type": "code",
   "execution_count": 15,
   "id": "55455f41-9ad4-4862-8349-e2c09f049566",
   "metadata": {},
   "outputs": [
    {
     "data": {
      "text/plain": [
       "(#3) [Path('data/img_1.jpg'),Path('data/img_2.jpg'),Path('data/img_3.jpg')]"
      ]
     },
     "execution_count": 15,
     "metadata": {},
     "output_type": "execute_result"
    }
   ],
   "source": [
    "data_dir.ls()"
   ]
  },
  {
   "cell_type": "code",
   "execution_count": 20,
   "id": "5c746b74-6dcc-435b-bc88-ad61a06b2124",
   "metadata": {},
   "outputs": [
    {
     "data": {
      "text/plain": [
       "(#1) [Path('export.pkl')]"
      ]
     },
     "execution_count": 20,
     "metadata": {},
     "output_type": "execute_result"
    }
   ],
   "source": [
    "base_path.ls(file_exts='.pkl')"
   ]
  },
  {
   "cell_type": "code",
   "execution_count": 22,
   "id": "df29aa9b-cfe8-43db-a999-c790eeb7190a",
   "metadata": {},
   "outputs": [],
   "source": [
    "learn_inf = load_learner(base_path/'export.pkl')"
   ]
  },
  {
   "cell_type": "code",
   "execution_count": 26,
   "id": "e35bf6e4-3cba-4657-b0e9-cffe99722c01",
   "metadata": {},
   "outputs": [
    {
     "data": {
      "text/html": [
       "\n",
       "<style>\n",
       "    /* Turns off some styling */\n",
       "    progress {\n",
       "        /* gets rid of default border in Firefox and Opera. */\n",
       "        border: none;\n",
       "        /* Needs to be in here for Safari polyfill so background images work as expected. */\n",
       "        background-size: auto;\n",
       "    }\n",
       "    progress:not([value]), progress:not([value])::-webkit-progress-bar {\n",
       "        background: repeating-linear-gradient(45deg, #7e7e7e, #7e7e7e 10px, #5c5c5c 10px, #5c5c5c 20px);\n",
       "    }\n",
       "    .progress-bar-interrupted, .progress-bar-interrupted::-webkit-progress-bar {\n",
       "        background: #F44336;\n",
       "    }\n",
       "</style>\n"
      ],
      "text/plain": [
       "<IPython.core.display.HTML object>"
      ]
     },
     "metadata": {},
     "output_type": "display_data"
    },
    {
     "data": {
      "text/html": [],
      "text/plain": [
       "<IPython.core.display.HTML object>"
      ]
     },
     "metadata": {},
     "output_type": "display_data"
    },
    {
     "data": {
      "text/plain": [
       "('Chili__yellowish',\n",
       " tensor(15),\n",
       " tensor([4.7988e-10, 2.8708e-10, 5.8701e-09, 7.5626e-10, 2.6526e-09, 1.3325e-08,\n",
       "         1.0678e-08, 8.2314e-09, 1.5443e-07, 2.8865e-10, 8.8487e-11, 1.5841e-06,\n",
       "         3.7670e-04, 7.0511e-05, 8.5083e-07, 9.9955e-01, 1.1264e-08, 5.4482e-09,\n",
       "         2.2865e-09, 2.4053e-09, 2.6385e-09, 5.5717e-10, 6.2765e-09, 8.4108e-10,\n",
       "         1.2706e-07, 8.6076e-10, 1.4790e-10, 1.0022e-07, 7.0535e-08, 7.6037e-08,\n",
       "         4.2111e-09, 4.0545e-08, 8.0200e-10, 6.0441e-09, 1.4936e-08, 1.5455e-08,\n",
       "         2.0007e-10, 1.3217e-08, 3.3973e-11, 5.7198e-09, 1.5049e-09, 1.6446e-09,\n",
       "         2.8433e-09, 3.5826e-07, 4.1350e-09, 3.0574e-09, 9.2604e-09, 7.5793e-08,\n",
       "         3.6762e-08, 4.5096e-09, 6.1024e-09, 3.2347e-09, 5.7960e-09, 9.7076e-08,\n",
       "         2.6898e-08, 2.4748e-09, 1.2226e-08, 9.0273e-09, 1.1167e-10, 6.2882e-09,\n",
       "         3.5811e-08, 1.3984e-08, 9.7340e-09, 2.5579e-09, 1.5668e-09, 5.3978e-11,\n",
       "         1.3377e-10, 2.1784e-09, 2.7772e-10, 1.6282e-09, 1.1858e-09, 3.1003e-08,\n",
       "         1.0814e-08, 2.3449e-09, 5.8566e-08, 1.9069e-09, 1.4795e-09, 4.4159e-09,\n",
       "         2.6810e-08, 6.4278e-08, 8.0119e-09, 7.5820e-09, 9.4168e-11, 1.6955e-06,\n",
       "         1.9664e-07, 2.0315e-09, 5.1672e-09, 3.8541e-08]))"
      ]
     },
     "execution_count": 26,
     "metadata": {},
     "output_type": "execute_result"
    }
   ],
   "source": [
    "learn_inf.predict('data/img_3.jpg')"
   ]
  },
  {
   "cell_type": "code",
   "execution_count": null,
   "id": "194e6ff8-06d5-493d-9647-27a47efeb9ab",
   "metadata": {},
   "outputs": [],
   "source": []
  }
 ],
 "metadata": {
  "kernelspec": {
   "display_name": "Python 3 (ipykernel)",
   "language": "python",
   "name": "python3"
  },
  "language_info": {
   "codemirror_mode": {
    "name": "ipython",
    "version": 3
   },
   "file_extension": ".py",
   "mimetype": "text/x-python",
   "name": "python",
   "nbconvert_exporter": "python",
   "pygments_lexer": "ipython3",
   "version": "3.10.13"
  }
 },
 "nbformat": 4,
 "nbformat_minor": 5
}
